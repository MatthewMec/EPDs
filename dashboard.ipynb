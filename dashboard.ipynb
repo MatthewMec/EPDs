{
  "cells": [
    {
      "cell_type": "code",
      "metadata": {},
      "source": [
        "#Import Libraries\n",
        "\n",
        "import polars as pl\n",
        "import pandas as pd\n",
        "import streamlit as st\n",
        "import numpy as np\n",
        "import xlsx2csv\n",
        "from lets_plot import *"
      ],
      "id": "c85447a3",
      "execution_count": null,
      "outputs": []
    },
    {
      "cell_type": "code",
      "metadata": {},
      "source": [
        "epds = pl.read_csv('2024epd.csv', ignore_errors=True).with_row_index().drop(['Sex', 'DOB','BrdCds'])\n",
        "\n",
        "epds = epds.with_columns(mean = pl.sum_horizontal(['PROS','HB','GM']) / 3)\n",
        "\n",
        "\n",
        "epds = (epds.with_columns([\n",
        "    pl.col(\"AnimalID\").str.split_exact(\" - \", 1).\n",
        "    alias(\"split_column\")]).\n",
        "    with_columns(pl.col('split_column')).\n",
        "    unnest('split_column').\n",
        "    rename({'field_0' : 'cow', 'field_1' : 'bull'})\n",
        ")\n",
        "\n",
        "criteria = {\n",
        "    \"ME\": -1,\n",
        "    \"CED\": 12,\n",
        "    \"Milk\": 26,\n",
        "    \"CEM\": 7,\n",
        "    \"Marb\": 0.4,\n",
        "    \"STAY\": 17\n",
        "}\n",
        "\n",
        "epds_mins = epds.filter(\n",
        "    (pl.col(\"ME\") <= criteria[\"ME\"]) &\n",
        "    (pl.col(\"CED\") >= criteria[\"CED\"]) &\n",
        "    (pl.col(\"Milk\") >= criteria[\"Milk\"]) &\n",
        "    (pl.col(\"CEM\") >= criteria[\"CEM\"]) &\n",
        "    (pl.col(\"Marb\") >= criteria[\"Marb\"]) &\n",
        "    (pl.col(\"STAY\") >= criteria[\"STAY\"])\n",
        ")"
      ],
      "id": "41107986",
      "execution_count": null,
      "outputs": []
    },
    {
      "cell_type": "markdown",
      "metadata": {},
      "source": [
        "6 cows who cannot meet milk requirement at all: C29, D10, G07, H15, H11, H59\n",
        "\n",
        "4 cows cannot meet marb requirements at all: C44, F83, F03, C32\n",
        "\n",
        "17 other cows that cannot meet the requirements in conjuction\n"
      ],
      "id": "30f1c386"
    },
    {
      "cell_type": "code",
      "metadata": {},
      "source": [
        "#epds.select(pl.col('cow').n_unique()).item()\n",
        "epds_mins.select(pl.col('cow').n_unique()).item()"
      ],
      "id": "1a8c4d11",
      "execution_count": null,
      "outputs": []
    },
    {
      "cell_type": "code",
      "metadata": {},
      "source": [
        "cows = epds.select(pl.col('cow').unique()).to_series().to_list()\n",
        "\n",
        "cows_meeting_requirements = epds_mins.select(pl.col('cow').unique()).to_series().to_list()\n",
        "\n",
        "# Compare the lists\n",
        "cows_in_both = set(cows).intersection(cows_meeting_requirements)\n",
        "\n",
        "cows_only_in_original = set(cows) - set(cows_meeting_requirements)"
      ],
      "id": "7ee1742b",
      "execution_count": null,
      "outputs": []
    },
    {
      "cell_type": "code",
      "metadata": {},
      "source": [
        "cows_failing = epds.filter(pl.col(\"cow\").is_in(cows_only_in_original))"
      ],
      "id": "e95daaac",
      "execution_count": null,
      "outputs": []
    },
    {
      "cell_type": "code",
      "metadata": {},
      "source": [
        "ggplot()"
      ],
      "id": "c075f101",
      "execution_count": null,
      "outputs": []
    }
  ],
  "metadata": {
    "kernelspec": {
      "name": "python3",
      "language": "python",
      "display_name": "Python 3 (ipykernel)"
    }
  },
  "nbformat": 4,
  "nbformat_minor": 5
}